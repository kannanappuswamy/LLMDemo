{
  "nbformat": 4,
  "nbformat_minor": 0,
  "metadata": {
    "colab": {
      "provenance": [],
      "include_colab_link": true
    },
    "kernelspec": {
      "name": "python3",
      "display_name": "Python 3"
    },
    "language_info": {
      "name": "python"
    }
  },
  "cells": [
    {
      "cell_type": "markdown",
      "metadata": {
        "id": "view-in-github",
        "colab_type": "text"
      },
      "source": [
        "<a href=\"https://colab.research.google.com/github/kannanappuswamy/LLMDemo/blob/main/My_first_agent.ipynb\" target=\"_parent\"><img src=\"https://colab.research.google.com/assets/colab-badge.svg\" alt=\"Open In Colab\"/></a>"
      ]
    },
    {
      "cell_type": "markdown",
      "source": [
        "Implemeting a simple agent similiar to: https://til.simonwillison.net/llms/python-react-pattern"
      ],
      "metadata": {
        "id": "LnqMD3NbPw5k"
      }
    },
    {
      "cell_type": "code",
      "source": [
        "!pip install -U -q langchain_groq duckduckgo_search polygon"
      ],
      "metadata": {
        "id": "_r8FylOVPldQ",
        "colab": {
          "base_uri": "https://localhost:8080/"
        },
        "outputId": "3d9f7462-d1c1-461b-9925-880b0536546c"
      },
      "execution_count": 1,
      "outputs": [
        {
          "output_type": "stream",
          "name": "stdout",
          "text": [
            "\u001b[?25l     \u001b[90m━━━━━━━━━━━━━━━━━━━━━━━━━━━━━━━━━━━━━━━━\u001b[0m \u001b[32m0.0/50.4 kB\u001b[0m \u001b[31m?\u001b[0m eta \u001b[36m-:--:--\u001b[0m\r\u001b[2K     \u001b[91m━━━━━━━━━━━━━━━━━━━━━━━━━━━━━━━━\u001b[0m\u001b[90m╺\u001b[0m\u001b[90m━━━━━━━\u001b[0m \u001b[32m41.0/50.4 kB\u001b[0m \u001b[31m67.2 MB/s\u001b[0m eta \u001b[36m0:00:01\u001b[0m\r\u001b[2K     \u001b[90m━━━━━━━━━━━━━━━━━━━━━━━━━━━━━━━━━━━━━━━━\u001b[0m \u001b[32m50.4/50.4 kB\u001b[0m \u001b[31m1.1 MB/s\u001b[0m eta \u001b[36m0:00:00\u001b[0m\n",
            "\u001b[2K   \u001b[90m━━━━━━━━━━━━━━━━━━━━━━━━━━━━━━━━━━━━━━━━\u001b[0m \u001b[32m111.9/111.9 kB\u001b[0m \u001b[31m5.3 MB/s\u001b[0m eta \u001b[36m0:00:00\u001b[0m\n",
            "\u001b[2K   \u001b[90m━━━━━━━━━━━━━━━━━━━━━━━━━━━━━━━━━━━━━━━━\u001b[0m \u001b[32m106.5/106.5 kB\u001b[0m \u001b[31m6.6 MB/s\u001b[0m eta \u001b[36m0:00:00\u001b[0m\n",
            "\u001b[2K   \u001b[90m━━━━━━━━━━━━━━━━━━━━━━━━━━━━━━━━━━━━━━━━\u001b[0m \u001b[32m76.4/76.4 kB\u001b[0m \u001b[31m4.8 MB/s\u001b[0m eta \u001b[36m0:00:00\u001b[0m\n",
            "\u001b[2K   \u001b[90m━━━━━━━━━━━━━━━━━━━━━━━━━━━━━━━━━━━━━━━━\u001b[0m \u001b[32m77.9/77.9 kB\u001b[0m \u001b[31m4.8 MB/s\u001b[0m eta \u001b[36m0:00:00\u001b[0m\n",
            "\u001b[2K   \u001b[90m━━━━━━━━━━━━━━━━━━━━━━━━━━━━━━━━━━━━━━━━\u001b[0m \u001b[32m396.4/396.4 kB\u001b[0m \u001b[31m17.7 MB/s\u001b[0m eta \u001b[36m0:00:00\u001b[0m\n",
            "\u001b[2K   \u001b[90m━━━━━━━━━━━━━━━━━━━━━━━━━━━━━━━━━━━━━━━━\u001b[0m \u001b[32m2.8/2.8 MB\u001b[0m \u001b[31m47.0 MB/s\u001b[0m eta \u001b[36m0:00:00\u001b[0m\n",
            "\u001b[2K   \u001b[90m━━━━━━━━━━━━━━━━━━━━━━━━━━━━━━━━━━━━━━━━\u001b[0m \u001b[32m157.3/157.3 kB\u001b[0m \u001b[31m9.2 MB/s\u001b[0m eta \u001b[36m0:00:00\u001b[0m\n",
            "\u001b[2K   \u001b[90m━━━━━━━━━━━━━━━━━━━━━━━━━━━━━━━━━━━━━━━━\u001b[0m \u001b[32m290.4/290.4 kB\u001b[0m \u001b[31m11.8 MB/s\u001b[0m eta \u001b[36m0:00:00\u001b[0m\n",
            "\u001b[2K   \u001b[90m━━━━━━━━━━━━━━━━━━━━━━━━━━━━━━━━━━━━━━━━\u001b[0m \u001b[32m58.3/58.3 kB\u001b[0m \u001b[31m3.6 MB/s\u001b[0m eta \u001b[36m0:00:00\u001b[0m\n",
            "\u001b[2K   \u001b[90m━━━━━━━━━━━━━━━━━━━━━━━━━━━━━━━━━━━━━━━━\u001b[0m \u001b[32m141.9/141.9 kB\u001b[0m \u001b[31m7.4 MB/s\u001b[0m eta \u001b[36m0:00:00\u001b[0m\n",
            "\u001b[?25h"
          ]
        }
      ]
    },
    {
      "cell_type": "code",
      "execution_count": 4,
      "metadata": {
        "id": "W6HcqZgtPdk6"
      },
      "outputs": [],
      "source": [
        "from langchain_groq import ChatGroq\n",
        "import os\n",
        "from google.colab import userdata\n",
        "llm_groq = ChatGroq(model_name=\"llama3-70b-8192\", api_key=userdata.get(\"GROQ_API_KEY\"))\n",
        "os.environ[\"POLYGON_API_KEY\"] = userdata.get(\"POLYGON_API_KEY\")"
      ]
    },
    {
      "cell_type": "code",
      "source": [
        "class Agent:\n",
        "  def __init__(self,prompt):\n",
        "    self.messages = [] # setting up a basic memory\n",
        "    self.messages.append({\"role\": \"system\", \"content\": prompt})\n",
        "\n",
        "  def __call__(self,user_message):\n",
        "    self.messages.append({\"role\":\"user\",\"content\":user_message})\n",
        "    ai_response = llm_groq.invoke(self.messages).content\n",
        "    self.messages.append({\"role\":\"assistant\",\"content\":ai_response})\n",
        "    return ai_response\n"
      ],
      "metadata": {
        "id": "rBIZ7qd3Tk9O"
      },
      "execution_count": 5,
      "outputs": []
    },
    {
      "cell_type": "code",
      "source": [
        "prompt = \"\"\"\n",
        "You operate in a loop consisting of Thought, Action, PAUSE, and Observation.\n",
        "At the end of the loop, you provide an Answer.\n",
        "Use Thought to describe your reasoning about the task you have been asked to complete.\n",
        "Use Action to execute one of the actions available to you, then return PAUSE.\n",
        "Observation will contain the result of the action.\n",
        "\n",
        "Your available actions are:\n",
        "\n",
        "calculate:\n",
        "\n",
        "e.g. calculate: result=4 * 7 / 3\n",
        "Runs a calculation and returns the result. Use Python, including any necessary imports, e.g., import math; math.sqrt(4).\n",
        "\n",
        "stock_price:\n",
        "\n",
        "e.g. stock_price: AAPL\n",
        "Returns the current stock price of the given ticker symbol (e.g., AAPL for Apple Inc.).\n",
        "\n",
        "ddgs_news:\n",
        "\n",
        "e.g. ddgs_news: TSLA\n",
        "Performs a news search for the given ticker query using DuckDuckGo and returns a summarized text of all the news articles found. Use the news content to analyze and determine whether the overall sentiment is positive, negative, or neutral.\n",
        "\n",
        "You are responsible for retrieving the news and performing the sentiment analysis.\n",
        "\n",
        "Example session:\n",
        "\n",
        "Question: What is the current price of Tesla, and is the recent news about it positive or negative?\n",
        "Thought: First, I need to get the current stock price of Tesla.\n",
        "Action: stock_price: TSLA\n",
        "PAUSE\n",
        "\n",
        "You will be called again with this:\n",
        "\n",
        "Observation: The current stock price of Tesla (TSLA) is $700.\n",
        "\n",
        "Thought: Now, I should retrieve the latest news about Tesla and determine the overall sentiment.\n",
        "Action: ddgs_news: Tesla\n",
        "PAUSE\n",
        "\n",
        "You will be called again with this:\n",
        "\n",
        "Observation: Tesla secures a new battery deal with Panasonic...\\nTesla's latest earnings surpass expectations...\\n\\n--Next News--\\n\\nTesla faces regulatory challenges in Europe...\\n\\n--Next News--\\n\\n...\n",
        "\n",
        "Thought: After analyzing the news content, the sentiment appears to be mostly positive due to the strong earnings and new battery deal.\n",
        "I should calcuate the number of stocks you could buy for $10,000.\n",
        "\n",
        "Action: calculate: result=$10000/700 = 14 shares\n",
        "PAUSE\n",
        "\n",
        "Observation: You could buy 14 shares.\n",
        "\n",
        "Answer: The current price of Tesla (TSLA) is $700. The recent news about Tesla is generally positive, with strong earnings and a new battery deal.\n",
        "You could buy 14 shares to cover your investment.\n",
        "\n",
        "\n",
        "If the news is neither negative or positive and you cannot make a decisiion, return a HOLD statement. IF not give a BUY or SELL statement.\n",
        "This is for a lab experiment and not a trading strategy and thus be bold.\n",
        "\n",
        "Return the number of shares that could be bought.\n",
        "\"\"\".strip()"
      ],
      "metadata": {
        "id": "CXKBa7z1VMv1"
      },
      "execution_count": 6,
      "outputs": []
    },
    {
      "cell_type": "code",
      "source": [
        "from duckduckgo_search import DDGS\n",
        "def search_news(query: str, region: str = 'in-en') -> str:\n",
        "    try:\n",
        "        news_results = DDGS().news(query, region='in-en',max_results=5)\n",
        "        if not news_results:\n",
        "            return f\"No recent news found for {query}.\"\n",
        "\n",
        "        text=\"\"\n",
        "        for article in news_results:\n",
        "            text +=  article.get('title')+ \"\\n\"+ article.get('body')+\"\\n\\n--Next News--\\n\\n\"\n",
        "\n",
        "        return text\n",
        "\n",
        "    except Exception as e:\n",
        "        return f\"An error occurred while searching for news: {str(e)}\"\n",
        "\n",
        "search_news(\"TSLA\")"
      ],
      "metadata": {
        "colab": {
          "base_uri": "https://localhost:8080/",
          "height": 105
        },
        "id": "akRGhSdGRwG-",
        "outputId": "6625f945-2c7c-4909-d721-23fcfa322b38"
      },
      "execution_count": 7,
      "outputs": [
        {
          "output_type": "execute_result",
          "data": {
            "text/plain": [
              "\"Is Wall Street Underestimating Tesla (TSLA) Stock?\\nToday shares of Tesla have fallen -8.4%, vindicating the analysts who have given the stock an average rating of hold. But could they be wrong? Some factors show that Tesla may actually be undervalued at today's prices,\\n\\n--Next News--\\n\\nWall Street sets Tesla (TSLA) stock price for next 12 months\\nAs Tesla announced FSD release for Europe and China, Wall Street analysts reacted by adjusting TSLA price targets for the next 12 months.\\n\\n--Next News--\\n\\nTesla Inc (TSLA) Stock: Greater Than Its Current Valuation?\\nInvestors often prefer to invest in shares held by company insiders, as management is typically more aligned with the company's success and shareholder interests. Currently, insiders own just 12.98% of Tesla Inc (TSLA)'s shares, while financial institutions hold 46.15%.\\n\\n--Next News--\\n\\nTesla, Inc. (TSLA): One of the Best Battery Stocks to Buy According to Short Sellers\\nWe recently compiled a list of the 10 Best Battery Stocks To Buy Now According to Short Sellers. In this article, we are going to take a look at where Tesla, Inc. (NASDAQ:TSLA) stands against the other battery stocks.\\n\\n--Next News--\\n\\nLong TSLA: bullish reversal signals with strong technical setup and china expansion driving future gains\\nWant access to more trading signals? Sign up to one of our paid plans for instant access today\\n\\n--Next News--\\n\\n\""
            ],
            "application/vnd.google.colaboratory.intrinsic+json": {
              "type": "string"
            }
          },
          "metadata": {},
          "execution_count": 7
        }
      ]
    },
    {
      "cell_type": "code",
      "source": [
        "import polygon\n",
        "stocks_client = polygon.StocksClient(os.getenv(\"POLYGON_API_KEY\"))\n",
        "def get_stock_price(ticker: str)->str:\n",
        "    return stocks_client.get_previous_close(ticker)[\"results\"][0][\"c\"]\n",
        "\n",
        "get_stock_price(\"AAPL\")"
      ],
      "metadata": {
        "colab": {
          "base_uri": "https://localhost:8080/"
        },
        "id": "W2nNDoWhUHgT",
        "outputId": "688b3a45-2995-4c2e-abbb-25ff850c7ea7"
      },
      "execution_count": 8,
      "outputs": [
        {
          "output_type": "execute_result",
          "data": {
            "text/plain": [
              "220.82"
            ]
          },
          "metadata": {},
          "execution_count": 8
        }
      ]
    },
    {
      "cell_type": "code",
      "source": [
        "def calculate(expression: str) -> str:\n",
        "    \"\"\"\n",
        "    Executes a mathematical expression and returns the result.\n",
        "    The expression can include imports and should store the result in a variable named 'result'.\n",
        "    \"\"\"\n",
        "    print(expression)  # Debugging: print the expression to see what is being executed\n",
        "    try:\n",
        "        # Prepare a local namespace to safely execute the expression\n",
        "        local_namespace = {}\n",
        "\n",
        "        # Execute the full expression in the given local namespace\n",
        "        exec(expression, {}, local_namespace)\n",
        "\n",
        "        # Retrieve the result from the local namespace\n",
        "        return str(local_namespace.get('result', \"No result found\"))\n",
        "\n",
        "    except Exception as e:\n",
        "        return f\"Error in calculation: {str(e)}\"\n",
        "\n",
        "# Example usage\n",
        "print(calculate(\"import math; result = math.sqrt(4) * math.log(10)\"))"
      ],
      "metadata": {
        "colab": {
          "base_uri": "https://localhost:8080/"
        },
        "id": "uQtnwAqZIXaU",
        "outputId": "3f60279c-1802-459c-f3b4-95bdfab7891b"
      },
      "execution_count": 9,
      "outputs": [
        {
          "output_type": "stream",
          "name": "stdout",
          "text": [
            "import math; result = math.sqrt(4) * math.log(10)\n",
            "4.605170185988092\n"
          ]
        }
      ]
    },
    {
      "cell_type": "code",
      "source": [
        "calculate(\"result = 10000/27\")"
      ],
      "metadata": {
        "colab": {
          "base_uri": "https://localhost:8080/",
          "height": 53
        },
        "id": "1KjKMm4QZak1",
        "outputId": "dab93cb4-74b7-47cd-b343-010f9e7bd381"
      },
      "execution_count": 10,
      "outputs": [
        {
          "output_type": "stream",
          "name": "stdout",
          "text": [
            "result = 10000/27\n"
          ]
        },
        {
          "output_type": "execute_result",
          "data": {
            "text/plain": [
              "'370.3703703703704'"
            ],
            "application/vnd.google.colaboratory.intrinsic+json": {
              "type": "string"
            }
          },
          "metadata": {},
          "execution_count": 10
        }
      ]
    },
    {
      "cell_type": "code",
      "source": [
        "known_actions = {\n",
        "    \"ddgs_news\": search_news,\n",
        "    \"stock_price\": get_stock_price,\n",
        "    \"calculate\": calculate\n",
        "}"
      ],
      "metadata": {
        "id": "TwmKq0mBogKI"
      },
      "execution_count": 11,
      "outputs": []
    },
    {
      "cell_type": "code",
      "source": [
        "def simple_query(question):\n",
        "  bot = Agent(prompt)\n",
        "  return bot(question)\n",
        "\n",
        "response = simple_query(\"Is Tesla a good buy?\")\n",
        "response"
      ],
      "metadata": {
        "colab": {
          "base_uri": "https://localhost:8080/",
          "height": 35
        },
        "id": "FSYovzjjYgLv",
        "outputId": "4a4b86de-a00e-411f-8a55-3d5f36b07a3e"
      },
      "execution_count": 12,
      "outputs": [
        {
          "output_type": "execute_result",
          "data": {
            "text/plain": [
              "'Thought: To determine if Tesla is a good buy, I need to consider the current stock price and the recent news about the company.\\n\\nAction: stock_price: TSLA\\nPAUSE'"
            ],
            "application/vnd.google.colaboratory.intrinsic+json": {
              "type": "string"
            }
          },
          "metadata": {},
          "execution_count": 12
        }
      ]
    },
    {
      "cell_type": "code",
      "source": [
        "import re\n",
        "def parse_actions(ai_message):\n",
        "  action_re = re.compile('^Action: (\\w+): (.*)$')\n",
        "  actions = [action_re.match(a) for a in ai_message.split('\\n') if action_re.match(a)]\n",
        "  print(actions)\n",
        "\n",
        "  if actions:\n",
        "        action, action_input = actions[0].groups()\n",
        "        if action not in known_actions:\n",
        "              raise Exception(\"Unknown action: {}: {}\".format(action, action_input))\n",
        "        print(\" -- running {} {}\".format(action, action_input))\n",
        "        observation = known_actions[action](str(action_input))\n",
        "        return observation\n",
        "\n",
        "  return None\n",
        "\n",
        "parse_actions(response)"
      ],
      "metadata": {
        "colab": {
          "base_uri": "https://localhost:8080/"
        },
        "id": "DXiA9JLqeVh8",
        "outputId": "eb8b8397-0e0a-466b-ed98-a8fb6effce66"
      },
      "execution_count": 13,
      "outputs": [
        {
          "output_type": "stream",
          "name": "stdout",
          "text": [
            "[<re.Match object; span=(0, 25), match='Action: stock_price: TSLA'>]\n",
            " -- running stock_price TSLA\n"
          ]
        },
        {
          "output_type": "execute_result",
          "data": {
            "text/plain": [
              "210.73"
            ]
          },
          "metadata": {},
          "execution_count": 13
        }
      ]
    },
    {
      "cell_type": "code",
      "source": [
        "calculate(\"$10000/214.11\")"
      ],
      "metadata": {
        "colab": {
          "base_uri": "https://localhost:8080/",
          "height": 53
        },
        "id": "6uN35Y2aZqto",
        "outputId": "3ccfebce-4699-41ac-cf3f-77712edee7c2"
      },
      "execution_count": 14,
      "outputs": [
        {
          "output_type": "stream",
          "name": "stdout",
          "text": [
            "$10000/214.11\n"
          ]
        },
        {
          "output_type": "execute_result",
          "data": {
            "text/plain": [
              "'Error in calculation: invalid syntax (<string>, line 1)'"
            ],
            "application/vnd.google.colaboratory.intrinsic+json": {
              "type": "string"
            }
          },
          "metadata": {},
          "execution_count": 14
        }
      ]
    },
    {
      "cell_type": "code",
      "source": [
        "def multi_step_reasoning(question, max_turns=5):\n",
        "    i = 0\n",
        "    bot = Agent(prompt)\n",
        "    next_prompt = question\n",
        "    while i < max_turns:\n",
        "        i += 1\n",
        "        result = bot(next_prompt)\n",
        "        print(result)\n",
        "\n",
        "        # Check if the result contains an 'Answer' (indicating the final step)\n",
        "        if \"Answer:\" in result:\n",
        "            print(\"Final Answer:\", result)\n",
        "            break\n",
        "\n",
        "        observation = parse_actions(result)\n",
        "\n",
        "        if observation is None:\n",
        "            break\n",
        "        print(\"Observation:\", observation)\n",
        "        next_prompt = \"Observation: {}\".format(observation)\n",
        "\n",
        "# Example usage\n",
        "multi_step_reasoning(\"Is Tesla a good buy? How many can I buy with my pension fund of $50000\")"
      ],
      "metadata": {
        "colab": {
          "base_uri": "https://localhost:8080/"
        },
        "id": "gWklB9OdXco2",
        "outputId": "4f3427c8-3ceb-4601-e1f5-0e495a096466"
      },
      "execution_count": 15,
      "outputs": [
        {
          "output_type": "stream",
          "name": "stdout",
          "text": [
            "Thought: To determine if Tesla is a good buy, I need to consider the current stock price and the sentiment of the recent news about the company.\n",
            "\n",
            "Action: stock_price: TSLA\n",
            "PAUSE\n",
            "\n",
            "(Waiting for observation...)\n",
            "\n",
            "Please provide the observation.\n",
            "[<re.Match object; span=(0, 25), match='Action: stock_price: TSLA'>]\n",
            " -- running stock_price TSLA\n",
            "Observation: 210.73\n",
            "Thought: Now that I have the current stock price of Tesla, I should retrieve the latest news about Tesla and determine the overall sentiment.\n",
            "\n",
            "Action: ddgs_news: Tesla\n",
            "PAUSE\n",
            "[<re.Match object; span=(0, 24), match='Action: ddgs_news: Tesla'>]\n",
            " -- running ddgs_news Tesla\n",
            "Observation: The Tesla classic - and the owners who cherish Elon Musk's first electric car\n",
            "Tesla's introduction to the UK came not via the 2014 Model S, but the 2008 Roadster - produced with some serious help from Lotus in Norfolk\n",
            "\n",
            "--Next News--\n",
            "\n",
            "Fire erupts at Elon Musk's Tesla service-showroom in Nepal\n",
            "A fire broke out at Tesla's service showroom in Nepal's Kathmandu on Friday, causing damage to properties and documents, according to local police. The incident took place past noon on Friday at the ARETE International building,\n",
            "\n",
            "--Next News--\n",
            "\n",
            "Tesla Robotaxi Might Already Be Late to the Table, Is It Going To Bring Anything of Value?\n",
            "Tesla fans are thrilled about the upcoming Tesla robotaxi unveiling, but it's unclear whether Tesla can bring anything new to the table\n",
            "\n",
            "--Next News--\n",
            "\n",
            "Tesla's Patent Filings Reveal Future Wireless Home EV Charging System for Self-Driving Cars\n",
            "Recent patent filings from Tesla reveal the development of a wireless home EV charging station designed to support its vision for autonomous driving. The technology could provide efficient, hands-free charging for\n",
            "\n",
            "--Next News--\n",
            "\n",
            "Tesla driver arrested after being found asleep on autopilot with $100k in illegal drugs\n",
            "Michael Goodman was arrested in Wilson's Mills, North Carolina, for being asleep behind the wheel of his Tesla on Autopilot. Authorities found over $100,000 worth of illegal drugs in the vehicle. He faces multiple felony charges such as drug trafficking and reckless driving.\n",
            "\n",
            "--Next News--\n",
            "\n",
            "\n",
            "Thought: After analyzing the news content, the sentiment appears to be neutral, with a mix of positive and negative news articles. There are some positive articles about Tesla's history and its innovative technology, but there are also some negative articles about a fire at a Tesla service showroom and a Tesla driver being arrested with illegal drugs.\n",
            "\n",
            "Action: calculate: result=$50000/210.73\n",
            "PAUSE\n",
            "[<re.Match object; span=(0, 39), match='Action: calculate: result=$50000/210.73'>]\n",
            " -- running calculate result=$50000/210.73\n",
            "result=$50000/210.73\n",
            "Observation: Error in calculation: invalid syntax (<string>, line 1)\n",
            "Thought: It seems I made a mistake in my calculation. I'll try again with the correct syntax.\n",
            "\n",
            "Action: calculate: result=$50000/float(210.73)\n",
            "PAUSE\n",
            "[<re.Match object; span=(0, 46), match='Action: calculate: result=$50000/float(210.73)'>]\n",
            " -- running calculate result=$50000/float(210.73)\n",
            "result=$50000/float(210.73)\n",
            "Observation: Error in calculation: invalid syntax (<string>, line 1)\n",
            "Thought: I apologize for the mistake. I'll try again with the correct syntax.\n",
            "\n",
            "Action: calculate: result=50000/210.73\n",
            "PAUSE\n",
            "[<re.Match object; span=(0, 38), match='Action: calculate: result=50000/210.73'>]\n",
            " -- running calculate result=50000/210.73\n",
            "result=50000/210.73\n",
            "Observation: 237.2704408484791\n"
          ]
        }
      ]
    },
    {
      "cell_type": "code",
      "source": [
        "print(multi_step_reasoning(\"Compare Microsoft and Apple and see which one I could buy for my portfolio now\",10))"
      ],
      "metadata": {
        "colab": {
          "base_uri": "https://localhost:8080/"
        },
        "id": "3QCwnKTTXlRq",
        "outputId": "f8f95e8d-562b-43ff-a160-412a433a7849"
      },
      "execution_count": 16,
      "outputs": [
        {
          "output_type": "stream",
          "name": "stdout",
          "text": [
            "Thought: To compare Microsoft and Apple, I need to get the current stock prices of both companies.\n",
            "\n",
            "Action: stock_price: MSFT\n",
            "PAUSE\n",
            "[<re.Match object; span=(0, 25), match='Action: stock_price: MSFT'>]\n",
            " -- running stock_price MSFT\n",
            "Observation: 401.7\n",
            "Thought: I have the current stock price of Microsoft. Now, I need to get the current stock price of Apple.\n",
            "\n",
            "Action: stock_price: AAPL\n",
            "PAUSE\n",
            "[<re.Match object; span=(0, 25), match='Action: stock_price: AAPL'>]\n",
            " -- running stock_price AAPL\n",
            "Observation: 220.82\n",
            "Thought: Now that I have the current stock prices of both Microsoft and Apple, I should retrieve the latest news about each company and determine the overall sentiment for each.\n",
            "\n",
            "Action: ddgs_news: MSFT\n",
            "PAUSE\n",
            "[<re.Match object; span=(0, 23), match='Action: ddgs_news: MSFT'>]\n",
            " -- running ddgs_news MSFT\n",
            "Observation: Insider Sale: CEO Satya Nadella Sells 78,353 Shares of Microsoft Corp (MSFT)\n",
            "Satya Nadella, CEO of Microsoft Corp (NASDAQ:MSFT), executed a significant transaction by selling 78,353 shares of the company. The sale was documented in a recent SEC Filing. Following this transaction,\n",
            "\n",
            "--Next News--\n",
            "\n",
            "The Microsoft Corp Stock Thriller: Decoding the Mystery Behind MSFT's Recent Movements\n",
            "New Street has recently initiated Microsoft Corp (MSFT) stock to Buy rating, as announced on June 10, 2024, according to Finviz. Earlier, on June 7, 2024, Oppenheimer had reiterated the stock to Outperform, setting a price target of $500. for MSFT stock.\n",
            "\n",
            "--Next News--\n",
            "\n",
            "Microsoft Corporation (MSFT): An AI Stock That Broke The Internet This Week\n",
            "We recently compiled a list of the AI News That Broke The Internet This Week. In this article, we are going to take a look at where Microsoft Corporation (NASDAQ:MSFT) stands against the other AI stocks that broke the Internet this week.\n",
            "\n",
            "--Next News--\n",
            "\n",
            "Microsoft Corp (MSFT) Reported a 44.64% Operating Margin Last Year—What's the Real Story?\n",
            "Microsoft Corp (MSFT) stock saw a modest uptick, ending the day at $417.14 which represents a slight increase of $4.02 or 0.97% from the prior close of $413.12. The stock opened at $415.6 and touched a low of $412.\n",
            "\n",
            "--Next News--\n",
            "\n",
            "Microsoft Corporation (MSFT) Citi 2024 Global TMT Conference (Transcript)\n",
            "All right. Good afternoon, everybody. My name is Tyler Radke. Thanks for joining day 2 of the Citi Tech Conference. I co-head the software sector here. I know we got a super packed room. I believe most seats are taken, but if you have one open, feel free ...\n",
            "\n",
            "--Next News--\n",
            "\n",
            "\n",
            "Thought: After analyzing the news content about Microsoft, the sentiment appears to be mostly positive, with a \"Buy\" rating from New Street, an \"Outperform\" rating from Oppenheimer, and a modest uptick in stock price.\n",
            "\n",
            "Action: ddgs_news: AAPL\n",
            "PAUSE\n",
            "[<re.Match object; span=(0, 23), match='Action: ddgs_news: AAPL'>]\n",
            " -- running ddgs_news AAPL\n",
            "Observation: Apple (AAPL) Rose in Anticipation of the Incorporation of AI in iPhone 16\n",
            "Investment advisory firm Ithaka Group released the \"Ithaka US Growth Strategy\" second-quarter 2024 investor letter. A copy of the letter can be downloaded here. The second quarter of 2024 saw a surge in optimism among global markets,\n",
            "\n",
            "--Next News--\n",
            "\n",
            "Here is Why Baron Technology Fund Increased its Holdings in Apple (AAPL)\n",
            "Baron Funds, an investment management company, released its \"Baron Technology Fund\" second quarter 2024 investor letter. A copy of the letter can be downloaded here. After a slow start to the quarter,\n",
            "\n",
            "--Next News--\n",
            "\n",
            "Apple Inc. (AAPL): Trending AI Stock on Latest Analyst Ratings and News\n",
            "We recently compiled a list of the 20 Trending AI Stocks on Latest Analyst Ratings and News. In this article, we are going to take a look at where Apple Inc. (NASDAQ:AAPL) stands against the other trending AI stocks.\n",
            "\n",
            "--Next News--\n",
            "\n",
            "Apple stock price analysis: can AAPL's valuation be justified?\n",
            "Apple (NASDAQ: AAPL) stock price has staged a strong comeback after bottoming at $195.80 in August. It has soared by over 16% from its August lows and is nearing a bull market. Also, the stock has jumped by 40% from its lowest point this year,\n",
            "\n",
            "--Next News--\n",
            "\n",
            "Apple Inc. (AAPL): An AI Stock That Broke The Internet This Week\n",
            "We recently compiled a list of the AI News That Broke The Internet This Week. In this article, we are going to take a look at where Apple Inc. (NASDAQ:AAPL) stands against the other AI stocks that broke the Internet this week.\n",
            "\n",
            "--Next News--\n",
            "\n",
            "\n",
            "Thought: After analyzing the news content about Apple, the sentiment appears to be overwhelmingly positive, with a surge in optimism, increased holdings by Baron Technology Fund, and a strong comeback in stock price.\n",
            "\n",
            "Action: calculate: result=$10000/401.7 = 24.9 shares of MSFT or $10000/220.82 = 45.3 shares of AAPL\n",
            "PAUSE\n",
            "[<re.Match object; span=(0, 99), match='Action: calculate: result=$10000/401.7 = 24.9 sha>]\n",
            " -- running calculate result=$10000/401.7 = 24.9 shares of MSFT or $10000/220.82 = 45.3 shares of AAPL\n",
            "result=$10000/401.7 = 24.9 shares of MSFT or $10000/220.82 = 45.3 shares of AAPL\n",
            "Observation: Error in calculation: invalid syntax (<string>, line 1)\n",
            "Thought: It seems I made a mistake in my previous calculation. I need to recalculate the number of shares that can be bought for $10,000.\n",
            "\n",
            "Action: calculate: result=int(10000/401.7) and calculate: result2=int(10000/220.82)\n",
            "PAUSE\n",
            "[<re.Match object; span=(0, 83), match='Action: calculate: result=int(10000/401.7) and ca>]\n",
            " -- running calculate result=int(10000/401.7) and calculate: result2=int(10000/220.82)\n",
            "result=int(10000/401.7) and calculate: result2=int(10000/220.82)\n",
            "Observation: Error in calculation: invalid syntax (<string>, line 1)\n",
            "Thought: I apologize for the mistake. It seems I made an error in my previous calculation. I will try again.\n",
            "\n",
            "Action: calculate: result=int(10000/401.7); shares_MSFT=result; calculate: result2=int(10000/220.82); shares_AAPL=result2\n",
            "PAUSE\n",
            "[<re.Match object; span=(0, 121), match='Action: calculate: result=int(10000/401.7); share>]\n",
            " -- running calculate result=int(10000/401.7); shares_MSFT=result; calculate: result2=int(10000/220.82); shares_AAPL=result2\n",
            "result=int(10000/401.7); shares_MSFT=result; calculate: result2=int(10000/220.82); shares_AAPL=result2\n",
            "Observation: Error in calculation: name 'result2' is not defined\n",
            "Thought: I made another mistake! I need to define the result2 variable correctly.\n",
            "\n",
            "Action: calculate: result=int(10000/401.7); shares_MSFT=result; result2=int(10000/220.82); shares_AAPL=result2\n",
            "PAUSE\n",
            "[<re.Match object; span=(0, 110), match='Action: calculate: result=int(10000/401.7); share>]\n",
            " -- running calculate result=int(10000/401.7); shares_MSFT=result; result2=int(10000/220.82); shares_AAPL=result2\n",
            "result=int(10000/401.7); shares_MSFT=result; result2=int(10000/220.82); shares_AAPL=result2\n",
            "Observation: 24\n",
            "Thought: Now I have the correct calculations. I can buy 24 shares of Microsoft and 45 shares of Apple for $10,000.\n",
            "\n",
            "Action: No action needed, I will provide the answer.\n",
            "PAUSE\n",
            "[]\n",
            "None\n"
          ]
        }
      ]
    }
  ]
}